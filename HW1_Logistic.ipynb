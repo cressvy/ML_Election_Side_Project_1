{
  "nbformat": 4,
  "nbformat_minor": 0,
  "metadata": {
    "colab": {
      "provenance": []
    },
    "kernelspec": {
      "name": "python3",
      "display_name": "Python 3"
    },
    "language_info": {
      "name": "python"
    }
  },
  "cells": [
    {
      "cell_type": "markdown",
      "source": [
        "#**HW1-FRA503 Machine Learning**"
      ],
      "metadata": {
        "id": "n3iAApbO--d5"
      }
    },
    {
      "cell_type": "markdown",
      "metadata": {
        "id": "rldp-j-Z-83u"
      },
      "source": [
        "#**Linear regression model**\n",
        "\n",
        "---\n",
        "\n"
      ]
    },
    {
      "cell_type": "code",
      "source": [
        "import os\n",
        "import numpy as np\n",
        "import pandas as pd\n",
        "import numpy as np"
      ],
      "metadata": {
        "id": "F_CPhNSXImuZ"
      },
      "execution_count": null,
      "outputs": []
    },
    {
      "cell_type": "markdown",
      "metadata": {
        "id": "Tmp812Ql-830"
      },
      "source": [
        "- อ่านค่าจาก xlsx file ในชีทที่ชื่อ result_constituencies_status และทำการแสดงค่า attribute คร่าวๆ"
      ]
    },
    {
      "cell_type": "code",
      "metadata": {
        "id": "sXTAonuW-830",
        "colab": {
          "base_uri": "https://localhost:8080/",
          "height": 355
        },
        "outputId": "a42c081a-aaf1-4125-b2fa-bea9f0d49477"
      },
      "source": [
        "df = pd.read_excel('ML Dataset - ECT report 66.xlsx', sheet_name='result_constituencies_status')\n",
        "df.head"
      ],
      "execution_count": null,
      "outputs": [
        {
          "output_type": "error",
          "ename": "FileNotFoundError",
          "evalue": "ignored",
          "traceback": [
            "\u001b[0;31m---------------------------------------------------------------------------\u001b[0m",
            "\u001b[0;31mFileNotFoundError\u001b[0m                         Traceback (most recent call last)",
            "\u001b[0;32m<ipython-input-2-347bb7fec084>\u001b[0m in \u001b[0;36m<cell line: 1>\u001b[0;34m()\u001b[0m\n\u001b[0;32m----> 1\u001b[0;31m \u001b[0mdf\u001b[0m \u001b[0;34m=\u001b[0m \u001b[0mpd\u001b[0m\u001b[0;34m.\u001b[0m\u001b[0mread_excel\u001b[0m\u001b[0;34m(\u001b[0m\u001b[0;34m'ML Dataset - ECT report 66.xlsx'\u001b[0m\u001b[0;34m,\u001b[0m \u001b[0msheet_name\u001b[0m\u001b[0;34m=\u001b[0m\u001b[0;34m'result_constituencies_status'\u001b[0m\u001b[0;34m)\u001b[0m\u001b[0;34m\u001b[0m\u001b[0;34m\u001b[0m\u001b[0m\n\u001b[0m\u001b[1;32m      2\u001b[0m \u001b[0mdf\u001b[0m\u001b[0;34m.\u001b[0m\u001b[0mhead\u001b[0m\u001b[0;34m\u001b[0m\u001b[0;34m\u001b[0m\u001b[0m\n",
            "\u001b[0;32m/usr/local/lib/python3.10/dist-packages/pandas/util/_decorators.py\u001b[0m in \u001b[0;36mwrapper\u001b[0;34m(*args, **kwargs)\u001b[0m\n\u001b[1;32m    209\u001b[0m                 \u001b[0;32melse\u001b[0m\u001b[0;34m:\u001b[0m\u001b[0;34m\u001b[0m\u001b[0;34m\u001b[0m\u001b[0m\n\u001b[1;32m    210\u001b[0m                     \u001b[0mkwargs\u001b[0m\u001b[0;34m[\u001b[0m\u001b[0mnew_arg_name\u001b[0m\u001b[0;34m]\u001b[0m \u001b[0;34m=\u001b[0m \u001b[0mnew_arg_value\u001b[0m\u001b[0;34m\u001b[0m\u001b[0;34m\u001b[0m\u001b[0m\n\u001b[0;32m--> 211\u001b[0;31m             \u001b[0;32mreturn\u001b[0m \u001b[0mfunc\u001b[0m\u001b[0;34m(\u001b[0m\u001b[0;34m*\u001b[0m\u001b[0margs\u001b[0m\u001b[0;34m,\u001b[0m \u001b[0;34m**\u001b[0m\u001b[0mkwargs\u001b[0m\u001b[0;34m)\u001b[0m\u001b[0;34m\u001b[0m\u001b[0;34m\u001b[0m\u001b[0m\n\u001b[0m\u001b[1;32m    212\u001b[0m \u001b[0;34m\u001b[0m\u001b[0m\n\u001b[1;32m    213\u001b[0m         \u001b[0;32mreturn\u001b[0m \u001b[0mcast\u001b[0m\u001b[0;34m(\u001b[0m\u001b[0mF\u001b[0m\u001b[0;34m,\u001b[0m \u001b[0mwrapper\u001b[0m\u001b[0;34m)\u001b[0m\u001b[0;34m\u001b[0m\u001b[0;34m\u001b[0m\u001b[0m\n",
            "\u001b[0;32m/usr/local/lib/python3.10/dist-packages/pandas/util/_decorators.py\u001b[0m in \u001b[0;36mwrapper\u001b[0;34m(*args, **kwargs)\u001b[0m\n\u001b[1;32m    329\u001b[0m                     \u001b[0mstacklevel\u001b[0m\u001b[0;34m=\u001b[0m\u001b[0mfind_stack_level\u001b[0m\u001b[0;34m(\u001b[0m\u001b[0;34m)\u001b[0m\u001b[0;34m,\u001b[0m\u001b[0;34m\u001b[0m\u001b[0;34m\u001b[0m\u001b[0m\n\u001b[1;32m    330\u001b[0m                 )\n\u001b[0;32m--> 331\u001b[0;31m             \u001b[0;32mreturn\u001b[0m \u001b[0mfunc\u001b[0m\u001b[0;34m(\u001b[0m\u001b[0;34m*\u001b[0m\u001b[0margs\u001b[0m\u001b[0;34m,\u001b[0m \u001b[0;34m**\u001b[0m\u001b[0mkwargs\u001b[0m\u001b[0;34m)\u001b[0m\u001b[0;34m\u001b[0m\u001b[0;34m\u001b[0m\u001b[0m\n\u001b[0m\u001b[1;32m    332\u001b[0m \u001b[0;34m\u001b[0m\u001b[0m\n\u001b[1;32m    333\u001b[0m         \u001b[0;31m# error: \"Callable[[VarArg(Any), KwArg(Any)], Any]\" has no\u001b[0m\u001b[0;34m\u001b[0m\u001b[0;34m\u001b[0m\u001b[0m\n",
            "\u001b[0;32m/usr/local/lib/python3.10/dist-packages/pandas/io/excel/_base.py\u001b[0m in \u001b[0;36mread_excel\u001b[0;34m(io, sheet_name, header, names, index_col, usecols, squeeze, dtype, engine, converters, true_values, false_values, skiprows, nrows, na_values, keep_default_na, na_filter, verbose, parse_dates, date_parser, thousands, decimal, comment, skipfooter, convert_float, mangle_dupe_cols, storage_options)\u001b[0m\n\u001b[1;32m    480\u001b[0m     \u001b[0;32mif\u001b[0m \u001b[0;32mnot\u001b[0m \u001b[0misinstance\u001b[0m\u001b[0;34m(\u001b[0m\u001b[0mio\u001b[0m\u001b[0;34m,\u001b[0m \u001b[0mExcelFile\u001b[0m\u001b[0;34m)\u001b[0m\u001b[0;34m:\u001b[0m\u001b[0;34m\u001b[0m\u001b[0;34m\u001b[0m\u001b[0m\n\u001b[1;32m    481\u001b[0m         \u001b[0mshould_close\u001b[0m \u001b[0;34m=\u001b[0m \u001b[0;32mTrue\u001b[0m\u001b[0;34m\u001b[0m\u001b[0;34m\u001b[0m\u001b[0m\n\u001b[0;32m--> 482\u001b[0;31m         \u001b[0mio\u001b[0m \u001b[0;34m=\u001b[0m \u001b[0mExcelFile\u001b[0m\u001b[0;34m(\u001b[0m\u001b[0mio\u001b[0m\u001b[0;34m,\u001b[0m \u001b[0mstorage_options\u001b[0m\u001b[0;34m=\u001b[0m\u001b[0mstorage_options\u001b[0m\u001b[0;34m,\u001b[0m \u001b[0mengine\u001b[0m\u001b[0;34m=\u001b[0m\u001b[0mengine\u001b[0m\u001b[0;34m)\u001b[0m\u001b[0;34m\u001b[0m\u001b[0;34m\u001b[0m\u001b[0m\n\u001b[0m\u001b[1;32m    483\u001b[0m     \u001b[0;32melif\u001b[0m \u001b[0mengine\u001b[0m \u001b[0;32mand\u001b[0m \u001b[0mengine\u001b[0m \u001b[0;34m!=\u001b[0m \u001b[0mio\u001b[0m\u001b[0;34m.\u001b[0m\u001b[0mengine\u001b[0m\u001b[0;34m:\u001b[0m\u001b[0;34m\u001b[0m\u001b[0;34m\u001b[0m\u001b[0m\n\u001b[1;32m    484\u001b[0m         raise ValueError(\n",
            "\u001b[0;32m/usr/local/lib/python3.10/dist-packages/pandas/io/excel/_base.py\u001b[0m in \u001b[0;36m__init__\u001b[0;34m(self, path_or_buffer, engine, storage_options)\u001b[0m\n\u001b[1;32m   1650\u001b[0m                 \u001b[0mext\u001b[0m \u001b[0;34m=\u001b[0m \u001b[0;34m\"xls\"\u001b[0m\u001b[0;34m\u001b[0m\u001b[0;34m\u001b[0m\u001b[0m\n\u001b[1;32m   1651\u001b[0m             \u001b[0;32melse\u001b[0m\u001b[0;34m:\u001b[0m\u001b[0;34m\u001b[0m\u001b[0;34m\u001b[0m\u001b[0m\n\u001b[0;32m-> 1652\u001b[0;31m                 ext = inspect_excel_format(\n\u001b[0m\u001b[1;32m   1653\u001b[0m                     \u001b[0mcontent_or_path\u001b[0m\u001b[0;34m=\u001b[0m\u001b[0mpath_or_buffer\u001b[0m\u001b[0;34m,\u001b[0m \u001b[0mstorage_options\u001b[0m\u001b[0;34m=\u001b[0m\u001b[0mstorage_options\u001b[0m\u001b[0;34m\u001b[0m\u001b[0;34m\u001b[0m\u001b[0m\n\u001b[1;32m   1654\u001b[0m                 )\n",
            "\u001b[0;32m/usr/local/lib/python3.10/dist-packages/pandas/io/excel/_base.py\u001b[0m in \u001b[0;36minspect_excel_format\u001b[0;34m(content_or_path, storage_options)\u001b[0m\n\u001b[1;32m   1523\u001b[0m         \u001b[0mcontent_or_path\u001b[0m \u001b[0;34m=\u001b[0m \u001b[0mBytesIO\u001b[0m\u001b[0;34m(\u001b[0m\u001b[0mcontent_or_path\u001b[0m\u001b[0;34m)\u001b[0m\u001b[0;34m\u001b[0m\u001b[0;34m\u001b[0m\u001b[0m\n\u001b[1;32m   1524\u001b[0m \u001b[0;34m\u001b[0m\u001b[0m\n\u001b[0;32m-> 1525\u001b[0;31m     with get_handle(\n\u001b[0m\u001b[1;32m   1526\u001b[0m         \u001b[0mcontent_or_path\u001b[0m\u001b[0;34m,\u001b[0m \u001b[0;34m\"rb\"\u001b[0m\u001b[0;34m,\u001b[0m \u001b[0mstorage_options\u001b[0m\u001b[0;34m=\u001b[0m\u001b[0mstorage_options\u001b[0m\u001b[0;34m,\u001b[0m \u001b[0mis_text\u001b[0m\u001b[0;34m=\u001b[0m\u001b[0;32mFalse\u001b[0m\u001b[0;34m\u001b[0m\u001b[0;34m\u001b[0m\u001b[0m\n\u001b[1;32m   1527\u001b[0m     ) as handle:\n",
            "\u001b[0;32m/usr/local/lib/python3.10/dist-packages/pandas/io/common.py\u001b[0m in \u001b[0;36mget_handle\u001b[0;34m(path_or_buf, mode, encoding, compression, memory_map, is_text, errors, storage_options)\u001b[0m\n\u001b[1;32m    863\u001b[0m         \u001b[0;32melse\u001b[0m\u001b[0;34m:\u001b[0m\u001b[0;34m\u001b[0m\u001b[0;34m\u001b[0m\u001b[0m\n\u001b[1;32m    864\u001b[0m             \u001b[0;31m# Binary mode\u001b[0m\u001b[0;34m\u001b[0m\u001b[0;34m\u001b[0m\u001b[0m\n\u001b[0;32m--> 865\u001b[0;31m             \u001b[0mhandle\u001b[0m \u001b[0;34m=\u001b[0m \u001b[0mopen\u001b[0m\u001b[0;34m(\u001b[0m\u001b[0mhandle\u001b[0m\u001b[0;34m,\u001b[0m \u001b[0mioargs\u001b[0m\u001b[0;34m.\u001b[0m\u001b[0mmode\u001b[0m\u001b[0;34m)\u001b[0m\u001b[0;34m\u001b[0m\u001b[0;34m\u001b[0m\u001b[0m\n\u001b[0m\u001b[1;32m    866\u001b[0m         \u001b[0mhandles\u001b[0m\u001b[0;34m.\u001b[0m\u001b[0mappend\u001b[0m\u001b[0;34m(\u001b[0m\u001b[0mhandle\u001b[0m\u001b[0;34m)\u001b[0m\u001b[0;34m\u001b[0m\u001b[0;34m\u001b[0m\u001b[0m\n\u001b[1;32m    867\u001b[0m \u001b[0;34m\u001b[0m\u001b[0m\n",
            "\u001b[0;31mFileNotFoundError\u001b[0m: [Errno 2] No such file or directory: 'ML Dataset - ECT report 66.xlsx'"
          ]
        }
      ]
    },
    {
      "cell_type": "markdown",
      "source": [
        "- จาก Dataset ได้เจาะจงชุดข้อมูลที่น่าสนใจคือ Result constituencies status ที่บอกถึงผลลัพธ์ของการมาใช้สิทธิ์และจำนวนหน่วยเลือกตั้งตามเขตต่างๆ โดยข้อมูลจะมีทั้งหมด 7 attributes ใน Sheet\n",
        "- จะเห็นได้ว่าข้อมูลทั้งหมด 400 ตัวอย่างไม่มีการขาดหาย หรือ ตกหล่น ซึ่งสามารถนำไปใช้ได้เลย แต่จะมีข้อมูลบางอันที่มีค่าค่อนข้างเป็น Outlier หรือ มีตัวอย่างน้อยเกินไป ซึ่งไม่เหมาะสมที่จะนำมาใช้งาน เช่น percent_count คือจำนวนคะแนนเสียงที่นับแล้วต่ำเกินไป หรือ pause_report ที่ดูไม่เกี่ยวข้อและส่งผลกับข้อมูลอื่นๆ\n",
        "\n"
      ],
      "metadata": {
        "id": "PCneyOR7-830"
      }
    },
    {
      "cell_type": "markdown",
      "metadata": {
        "id": "y-P2CZv--831"
      },
      "source": [
        "###**2. Data Preprocessing**"
      ]
    },
    {
      "cell_type": "markdown",
      "metadata": {
        "id": "xztQ7_Ob-831"
      },
      "source": [
        "- ทำการใส่ Column ที่แสดงถึงจำนวนเสียงที่มีสิทธิ์โหวตทั้งหมด ซึ่งคำนวนจากเปอร์เซ็นต์ผู้มาโหวต และ จำนวนผู้มาโหวตโดยชื่อว่า Total registered vote ซึ่งมีค่าเท่ากับข้อมูล total_registered_vote ในชีท info_province และปริ้นค่าออกมา"
      ]
    },
    {
      "cell_type": "code",
      "metadata": {
        "id": "RQz67kiC-831"
      },
      "source": [
        "df['total_registered_vote'] = df['turn_out']*100 / df['percent_turn_out']\n",
        "df['total_registered_vote'] = df['total_registered_vote'].round(0)\n",
        "df.head"
      ],
      "execution_count": null,
      "outputs": []
    },
    {
      "cell_type": "markdown",
      "source": [
        "- จากการตรวจสอบข้อมูล หลายๆสถานีนับจะมีปัญหาทำให้นับได้ไม่ครบทั้งหมด จึงทำการกรองข้อมูลสถานีนับที่มีการนับไม่ถึง 98% ของทั้งหมดเพื่อลดการกระโดดของข้อมูลที่อาจส่งผลต่อโมเดลได้ และเนื่องจากการหยุดนับนั้นไม่มีผลต่อโอกาสมาใช้สิทธิ์อย่างเห็นได้ชัด จึงตัดออกไปด้วย"
      ],
      "metadata": {
        "id": "qQKm_hDFDQB2"
      }
    },
    {
      "cell_type": "code",
      "source": [
        "df.drop('pause_report',axis = 1,inplace = True)\n",
        "df = df[df['percent_count'] > 98]"
      ],
      "metadata": {
        "id": "KNd6IQoYDTnh"
      },
      "execution_count": null,
      "outputs": []
    },
    {
      "cell_type": "code",
      "source": [
        "df.describe()"
      ],
      "metadata": {
        "id": "wo9nktCzDVz1"
      },
      "execution_count": null,
      "outputs": []
    },
    {
      "cell_type": "markdown",
      "source": [
        "- ทำการพิจาณาข้อมูล ซึ่งพบว่าจะมีตัวอย่างหลังจากถูกกรองออกเหลือ 393 ข้อมูล ส่วนมากไม่ได้มีการแปรผันมากมายจากค่า STD มาก  แต่ข้อมูลที่แตกต่างกันมากคือจำนวนคนในแต่ละเขต ซึ่งส่งผลกับจำนวนผู้มาใช้เสียง\n",
        "-  ตัด Feature ที่จะไม่ถูกใช้ออก คือ\n",
        "    - จำนวนคะแนนเสียงที่นับแล้ว เพราะได้กรองนับแล้วต่ำกว่า 98% ออกไปแล้ว\n",
        "    - รหัสเขตเลือกตั้ง เพราะไม่ได้พิจารณาจำแนกความสัมพันธ์ของเขต\n",
        "\n",
        "  จากนั้นพล็อตกราฟเพื่อดูความสัมพันธ์ของข้อมูล"
      ],
      "metadata": {
        "id": "t19ynaerDYYM"
      }
    },
    {
      "cell_type": "code",
      "source": [
        "df.drop('percent_count',axis = 1,inplace = True)\n",
        "df.drop('prov_id',axis = 1,inplace = True)"
      ],
      "metadata": {
        "id": "eOy0zyVcD6oF"
      },
      "execution_count": null,
      "outputs": []
    },
    {
      "cell_type": "code",
      "source": [
        "import seaborn as sns\n",
        "g = sns.pairplot(df)\n",
        "g.fig.set_size_inches(8,8)"
      ],
      "metadata": {
        "id": "Z_MPQis_D9FJ"
      },
      "execution_count": null,
      "outputs": []
    },
    {
      "cell_type": "code",
      "source": [
        "print('Correlations')\n",
        "print('\\ntotal registred vote and counted vote stations')\n",
        "print(df['total_registered_vote'].corr(df['counted_vote_stations']))\n",
        "print('\\npercent turn out and counted vote stations')\n",
        "print(df['percent_turn_out'].corr(df['counted_vote_stations']))\n",
        "print('\\npercent turn out and total registered vote')\n",
        "print(df['percent_turn_out'].corr(df['total_registered_vote']))\n",
        "\n",
        "print('\\nturn out and total registered vote')\n",
        "print(df['turn_out'].corr(df['total_registered_vote']))\n",
        "print('\\nturn out and counted vote stations')\n",
        "print(df['turn_out'].corr(df['counted_vote_stations']))\n",
        "print('\\nturn out and percent turn out')\n",
        "print(df['turn_out'].corr(df['percent_turn_out']))"
      ],
      "metadata": {
        "id": "m13L2MgBD_cr"
      },
      "execution_count": null,
      "outputs": []
    },
    {
      "cell_type": "markdown",
      "source": [
        "จากกราฟและค่า Correlation ของข้อมูล จะพบว่า\n",
        "- จำนวนผู้มีสิทธิ์โหวตมาก จะส่งผลให้มีสถานีเลือกตั้งมากขึ้น แต่ไม่ส่งผลมาก\n",
        "- จำนวนผู้มีสิทธิ์โหวตมาก ก็ส่งผลต่อเปอร์เซ็นต์ผู้มาโหวตมากเช่นกัน แต่ขึ้นอยู่กับผู้มีสิทธิ์โหวตทั้งหมดในแต่ละเขตด้วย\n",
        "- ถ้ามีคนในเขตเลือกตั้งมาก คนก็จะมาโหวตเลือกตั้งมากเช่นกัน"
      ],
      "metadata": {
        "id": "NSc1puctEB5b"
      }
    },
    {
      "cell_type": "markdown",
      "metadata": {
        "id": "K17oiU4J-831"
      },
      "source": [
        "###**3. Model Construction and Analysis**\n",
        "\n",
        "###**- Linear regression Model:**\n",
        "<B>สมมติฐาน : เราจะสามารถทำนายจำนวนผู้มาใช้สิทธ์ได้จากการจำนวนหน่วยเลือกตั้งทั้งหมด</B>\n",
        "\n",
        "<B>การทดลองที่จัดให้ต่างกัน: ทำนายเป็นเปอร์เซ็น กับ ทำนายเป็นจำนวนคน</B>\n",
        "\n",
        "<B>การ Preprocess ที่จัดให้ต่างกัน: Normalize กับ ไม่ Normalize</B>"
      ]
    },
    {
      "cell_type": "markdown",
      "source": [
        "    สร้าง dataframe แยกออกเป็น 2 การทดลอง"
      ],
      "metadata": {
        "id": "-mA8oqfnG9CK"
      }
    },
    {
      "cell_type": "code",
      "source": [
        "#import machine learning library (Linear regression model)\n",
        "from sklearn.linear_model import LinearRegression\n",
        "from sklearn.model_selection import train_test_split\n",
        "from sklearn import metrics\n",
        "df1 = df\n",
        "df2 = df"
      ],
      "metadata": {
        "id": "dO6oX7DJHC3w"
      },
      "execution_count": null,
      "outputs": []
    },
    {
      "cell_type": "markdown",
      "source": [
        "การทดลองที่ 1 : ทำนายเปอร์เซ็นต์ของผู้มาใช้สิทธิ์ จาก สถานีโหวต และ จำนวนผู้มีสิทธิ์โหวตทั้งหมด\n",
        "- ทำการแบ่งชุดข้อมูล Test ออกไป 20% และเลือกเทรนด้วย total_registered_vote\"กับ \"counted_vote_stations\" เพื่อให้ Output ออกมาเป็นเปอร์เซ็นต์ผู้มาใช้สิทธิ์โหวต"
      ],
      "metadata": {
        "id": "VnL_uRBVHGRu"
      }
    },
    {
      "cell_type": "code",
      "source": [
        "#First assumption\n",
        "x1 = df1[[\"total_registered_vote\",\"counted_vote_stations\"]].values\n",
        "y1 = df1.percent_turn_out.values.reshape(-1,1)\n",
        "\n",
        "x1_train,x1_test,y1_train,y1_test = train_test_split(x1,y1,test_size = 0.2,random_state = 42)"
      ],
      "metadata": {
        "id": "_V8CFECRHTbK"
      },
      "execution_count": null,
      "outputs": []
    },
    {
      "cell_type": "code",
      "source": [
        "#Build linear regression model\n",
        "model_MultiLinear = LinearRegression()\n",
        "model_MultiLinear.fit(x1_train,y1_train)\n",
        "\n",
        "#y = theta0 + theta1*x1 +theta2*x2\n",
        "print(\"Theta0: \",model_MultiLinear.intercept_[0])\n",
        "print(\"Theta1: \",model_MultiLinear.coef_[0][0])\n",
        "print(\"Theta2: \",model_MultiLinear.coef_[0][1])\n",
        "print(\"y = {:.4f}+{:.4f}x1+{:.4f}x2\".format(model_MultiLinear.intercept_[0],model_MultiLinear.coef_[0][0],model_MultiLinear.coef_[0][1]))"
      ],
      "metadata": {
        "id": "hJlhHtZNHVbx"
      },
      "execution_count": null,
      "outputs": []
    },
    {
      "cell_type": "code",
      "source": [
        "#Predict on trainig set\n",
        "y_pred = model_MultiLinear.predict(x1_train)"
      ],
      "metadata": {
        "id": "3jpTG1LbHaRb"
      },
      "execution_count": null,
      "outputs": []
    },
    {
      "cell_type": "code",
      "source": [
        "# Model measurement on trainig dataset\n",
        "def MAPE(Y_actual,Y_Predicted):\n",
        "    mape = np.mean(np.abs((Y_actual - Y_Predicted)/Y_actual))*100\n",
        "    return mape\n",
        "\n",
        "print(\"MAE = \",round(metrics.mean_absolute_error(y1_train,y_pred),4))\n",
        "print(\"MAPE = \",round(MAPE(y1_train,y_pred),4))\n",
        "print(\"R-Square = \",round(np.sqrt(metrics.r2_score(y1_train,y_pred)),4))\n",
        "\n",
        "#mean square error\n",
        "#root mean square error\n",
        "#mean absolute percentage error\n",
        "#R-Square"
      ],
      "metadata": {
        "id": "-5wIiUx3HcBJ"
      },
      "execution_count": null,
      "outputs": []
    },
    {
      "cell_type": "code",
      "source": [
        "#Predict on testing set\n",
        "y_pred = model_MultiLinear.predict(x1_test)"
      ],
      "metadata": {
        "id": "HWfUPSAvHd-7"
      },
      "execution_count": null,
      "outputs": []
    },
    {
      "cell_type": "code",
      "source": [
        "print(\"MAE = \",round(metrics.mean_absolute_error(y1_test,y_pred),4))\n",
        "print(\"MAPE = \",round(MAPE(y1_test,y_pred),4))\n",
        "print(\"R-Square = \",round(np.sqrt(metrics.r2_score(y1_test,y_pred)),4))"
      ],
      "metadata": {
        "id": "eFnZZFCoHfbl"
      },
      "execution_count": null,
      "outputs": []
    },
    {
      "cell_type": "markdown",
      "source": [
        "เทียบความต่างระหว่าง Normalized กับ ไม่ Normalized ของการทดลองที่ 1"
      ],
      "metadata": {
        "id": "GL0vtWvQHgjl"
      }
    },
    {
      "cell_type": "markdown",
      "source": [
        "    ทำการ Scale ข้อมูล Feature ให้เป็นช่วง 0 - 1"
      ],
      "metadata": {
        "id": "KE4gOX6IIK2z"
      }
    },
    {
      "cell_type": "code",
      "source": [
        "#Doing normalization\n",
        "df1['total_registered_vote'] = (df1['total_registered_vote']- df1['total_registered_vote'].min())/(df1['total_registered_vote'].max()-df1['total_registered_vote'].min())\n",
        "df1['counted_vote_stations'] = (df1['counted_vote_stations']- df1['counted_vote_stations'].min())/(df1['counted_vote_stations'].max()-df1['counted_vote_stations'].min())\n"
      ],
      "metadata": {
        "id": "xg__LrESINsZ"
      },
      "execution_count": null,
      "outputs": []
    },
    {
      "cell_type": "code",
      "source": [
        "#First assumption\n",
        "x1_Normalized = df1[[\"total_registered_vote\",\"counted_vote_stations\"]]\n",
        "y1_Normalized = df1.percent_turn_out.values.reshape(-1,1)\n",
        "# y1 = df1.percent_turn_out.values.reshape(-1,1)\n",
        "\n",
        "#Data preparation by spilting data to trainnig and testing\n",
        "x1n_train,x1n_test,y1n_train,y1n_test = train_test_split(x1_Normalized,y1_Normalized,test_size = 0.2,random_state = 42)"
      ],
      "metadata": {
        "id": "tBgcAxJxIPAb"
      },
      "execution_count": null,
      "outputs": []
    },
    {
      "cell_type": "code",
      "source": [
        "#Build linear regression model\n",
        "model_MultiLinear = LinearRegression()\n",
        "model_MultiLinear.fit(x1n_train,y1n_train)\n",
        "\n",
        "#y = theta0 + theta1*x1 +theta2*x2\n",
        "print(\"Theta0: \",model_MultiLinear.intercept_[0])\n",
        "print(\"Theta1: \",model_MultiLinear.coef_[0][0])\n",
        "print(\"Theta2: \",model_MultiLinear.coef_[0][1])\n",
        "print(\"y = {:.4f}+{:.4f}x1+{:.4f}x2\".format(model_MultiLinear.intercept_[0],model_MultiLinear.coef_[0][0],model_MultiLinear.coef_[0][1]))"
      ],
      "metadata": {
        "id": "qWivMQ2MIQdm"
      },
      "execution_count": null,
      "outputs": []
    },
    {
      "cell_type": "code",
      "source": [
        "#Predict on trainig set\n",
        "y_pred = model_MultiLinear.predict(x1n_train)\n",
        "# Model measurement on trainig dataset\n",
        "def MAPE(Y_actual,Y_Predicted):\n",
        "    mape = np.mean(np.abs((Y_actual - Y_Predicted)/Y_actual))*100\n",
        "    return mape\n",
        "\n",
        "print(\"MAE = \",round(metrics.mean_absolute_error(y1n_train,y_pred),4))\n",
        "print(\"MAPE = \",round(MAPE(y1n_train,y_pred),4))\n",
        "print(\"R-Square = \",round(np.sqrt(metrics.r2_score(y1n_train,y_pred)),4))"
      ],
      "metadata": {
        "id": "UXiE8ishIStJ"
      },
      "execution_count": null,
      "outputs": []
    },
    {
      "cell_type": "code",
      "source": [
        "#Predict on testing set\n",
        "y_pred = model_MultiLinear.predict(x1n_test)\n",
        "print(\"MAE = \",round(metrics.mean_absolute_error(y1n_test,y_pred),4))\n",
        "print(\"MAPE = \",round(MAPE(y1n_test,y_pred),4))\n",
        "print(\"R-Square = \",round(np.sqrt(metrics.r2_score(y1n_test,y_pred)),4))"
      ],
      "metadata": {
        "id": "kXfgCQ0WITvj"
      },
      "execution_count": null,
      "outputs": []
    },
    {
      "cell_type": "markdown",
      "source": [
        "การทดลองที่ 2 : ทำนายจำนวนของผู้มาใช้สิทธิ์ จาก สถานีโหวต และ จำนวนผู้มีสิทธิ์โหวตทั้งหมด\n",
        "- ทำการแบ่งชุดข้อมูล Test ออกไป 20% และเลือกเทรนด้วย total_registered_vote\"กับ \"counted_vote_stations\" เพื่อให้ Output ออกมาเป็นจำนวนผู้มาใช้สิทธิ์โหวต"
      ],
      "metadata": {
        "id": "uwTjkRpEIVZn"
      }
    },
    {
      "cell_type": "code",
      "source": [
        "#Second assumption\n",
        "x2 = df2[[\"total_registered_vote\",\"counted_vote_stations\"]].values\n",
        "y2 = df2.turn_out.values.reshape(-1,1)\n",
        "x2_train,x2_test,y2_train,y2_test = train_test_split(x2,y2,test_size = 0.2,random_state = 42)"
      ],
      "metadata": {
        "id": "5SUSKqhCIZtS"
      },
      "execution_count": null,
      "outputs": []
    },
    {
      "cell_type": "code",
      "source": [
        "#Build linear regression model\n",
        "model_MultiLinear = LinearRegression()\n",
        "model_MultiLinear.fit(x2_train,y2_train)\n",
        "\n",
        "#y = theta0 + theta1*x1 +theta2*x2\n",
        "print(\"Theta0: \",model_MultiLinear.intercept_[0])\n",
        "print(\"Theta1: \",model_MultiLinear.coef_[0][0])\n",
        "print(\"Theta2: \",model_MultiLinear.coef_[0][1])\n",
        "print(\"y = {:.4f}+{:.4f}x1+{:.4f}x2\".format(model_MultiLinear.intercept_[0],model_MultiLinear.coef_[0][0],model_MultiLinear.coef_[0][1]))"
      ],
      "metadata": {
        "id": "lYS4HWwbIbfz"
      },
      "execution_count": null,
      "outputs": []
    },
    {
      "cell_type": "code",
      "source": [
        "#Predict on trainig set\n",
        "y_pred = model_MultiLinear.predict(x2_train)\n",
        "# Model measurement on trainig dataset\n",
        "def MAPE(Y_actual,Y_Predicted):\n",
        "    mape = np.mean(np.abs((Y_actual - Y_Predicted)/Y_actual))*100\n",
        "    return mape\n",
        "\n",
        "print(\"MAE = \",round(metrics.mean_absolute_error(y2_train,y_pred),4))\n",
        "print(\"MAPE = \",round(MAPE(y2_train,y_pred),4))\n",
        "print(\"R-Square = \",round(np.sqrt(metrics.r2_score(y2_train,y_pred)),4))"
      ],
      "metadata": {
        "id": "iPl_5eK1Icfj"
      },
      "execution_count": null,
      "outputs": []
    },
    {
      "cell_type": "code",
      "source": [
        "#Predict on testing set\n",
        "y_pred = model_MultiLinear.predict(x2_test)\n",
        "print(\"MAE = \",round(metrics.mean_absolute_error(y2_test,y_pred),4))\n",
        "print(\"MAPE = \",round(MAPE(y2_test,y_pred),4))\n",
        "print(\"R-Square = \",round(np.sqrt(metrics.r2_score(y2_test,y_pred)),4))"
      ],
      "metadata": {
        "id": "e35lf3GzIdwL"
      },
      "execution_count": null,
      "outputs": []
    },
    {
      "cell_type": "markdown",
      "source": [
        "สรุปผลการทดลอง\n",
        "- เนื่องจากการที่ให้ Output เป็น percent นั้นไม่แสดงถึงความสัมพันธ์ระหว่างเปอร์เซ็นต์กับจำนวนผู้มาใช้สิทธิ์ทั้งหมดได้เท่าที่ควรเนื่องจากหน่วยของข้อมูลนั้นต่างกัน โมเดลจึงมีค่า R2 ที่ต่ำ แต่การทำนายก็เกิด Error ที่น้อยประมาณ 5% จากการวัดว่าจะมีผู้มาโหวตคะแนนเสียง 100% ซึ่งทุกตัวอย่างจะมีค่า Max สุดที่เท่ากันหมด\n",
        "- ในขณะที่หากใช้ Output เป็นจำนวนผู้มาใช้เสียง ซึ่งมีหน่วยเดียวกับ Input คือจำนวนผู้มีสิทธิ์โหวตทั้งหมด จะแสดงให้เห็นถึงความชัดเจนระหว่างข้อมูลมากกว่า เพราะแต่ละเขตนั้นก็มีจำนวนผู้มาใช้เสียงไม่เท่ากันขึ้นอยู่กับจำนวนผู้มีสิทธิ์โหวตทั้งหมดค่า R2 ของ Test model จึงสูงถึง 0.8 แต่ Error ที่เกิดขึ้นนั้นก็ประมาณ 5% เช่นกัน\n",
        "- จากการทดลอง Normalized กับ ไม่ Normalized ให้ค่าอยู่ในช่วง 0-1 พบว่าผลลัพธ์ไม่ต่างกัน\n",
        "- สามารถสรุปได้ว่า หากทราบถึงจำนวณผู้มีสิทธิ์โหวตทั้งหมด และทราบถึงจำนวนสถานีเลือกตั้ง จะสามารถนำไปทำนายได้ว่าจะมีผู้มาใช้สิทธิ์เลือกตั้งกี่คน เพื่อช่วยในการจัดสถานี้เลือกตั้งให้เพียงพอกับการเลือกตั้งครั้งถัดไป กระตุ้นการใช้สิทธิ์เลือกตั้งได้"
      ],
      "metadata": {
        "id": "dSp2p_XyIeld"
      }
    },
    {
      "cell_type": "markdown",
      "metadata": {
        "id": "uEM6lxygHfpN"
      },
      "source": [
        "#**Logistic regression model**\n",
        "\n",
        "---\n",
        "\n"
      ]
    },
    {
      "cell_type": "markdown",
      "source": [
        "###**Logistic linear regression**\n",
        "สมมติฐาน : ทำนายว่าเป็นพรรคการเมืองไหน จากจำนวนคะแนนเสียง ส.ส. เขตที่ได้ และ จำนวนร้อยละคะแนนเสียง ส.ส. เขตของพรรคนั้นต่อจำนวนผู้ใช้สิทธิ์ทั้งหมด\n",
        "\n"
      ],
      "metadata": {
        "id": "Rgbk85op75Hb"
      }
    },
    {
      "cell_type": "markdown",
      "metadata": {
        "id": "idEb9IvU9t4E"
      },
      "source": [
        "###**1. Data Exploration**\n",
        "- Dataset ที่ทางกลุ่มของพวกเราเลือกใช้สำหรับการวิเคราะห์และสร้าง machine learning model คือ result_constituencies_Candidate ที่เก็บไว้ใน Github เพื่อความสะดวกในการนำมาใช้งาน\n",
        "- มีการ import library ต่างๆ ที่จำเป็นสำหรับการทำ Rogistic regression\n",
        "- Dataset นี้ประกอบไปด้วย 6 attributes 400 examples โดยไม่มีการขาดหายของข้อมูล"
      ]
    },
    {
      "cell_type": "code",
      "metadata": {
        "id": "vf6z0-Lg9t4E"
      },
      "source": [
        "#import machine learning library\n",
        "from sklearn.linear_model import LogisticRegression\n",
        "from sklearn.model_selection import train_test_split\n",
        "from sklearn import metrics\n",
        "from sklearn.preprocessing import MinMaxScaler\n",
        "from sklearn.linear_model import LogisticRegression\n",
        "from sklearn.multiclass import OneVsOneClassifier\n",
        "import seaborn as sns\n",
        "import pandas as pd\n",
        "import numpy as np\n",
        "import matplotlib.pyplot as plt\n",
        "import requests"
      ],
      "execution_count": null,
      "outputs": []
    },
    {
      "cell_type": "code",
      "metadata": {
        "colab": {
          "base_uri": "https://localhost:8080/",
          "height": 206
        },
        "outputId": "f72a80c2-2b10-4c44-f96d-3381b0fba302",
        "id": "IFgorocA9t4E"
      },
      "source": [
        "#import dataset\n",
        "# Define the GitHub URL for the Excel file\n",
        "github_url = 'https://github.com/cressvy/ML_class_dataset/raw/main/election_dataset.xlsx'\n",
        "\n",
        "# Use requests to download the Excel file\n",
        "response = requests.get(github_url)\n",
        "\n",
        "# Check if the download was successful (status code 200)\n",
        "if response.status_code == 200:\n",
        "    with open('election_dataset.xlsx', 'wb') as f:\n",
        "        f.write(response.content)\n",
        "else:\n",
        "    print(\"Failed to download the file\")\n",
        "\n",
        "# Load the Excel file into a pandas DataFrame\n",
        "df = pd.read_excel('election_dataset.xlsx', sheet_name='result_constituencies_Candidate')\n",
        "\n",
        "# Display the first few rows of the DataFrame\n",
        "df.head()\n"
      ],
      "execution_count": null,
      "outputs": [
        {
          "output_type": "execute_result",
          "data": {
            "text/plain": [
              "  cons_id mp_app_id  mp_app_rank  mp_app_vote  mp_app_vote_percent  party_id\n",
              "0   ACR_1   ACR_1_1            9          459              0.43477       706\n",
              "1   ACR_1  ACR_1_10            1        38275             36.25419       709\n",
              "2   ACR_1  ACR_1_11           13          126              0.11935       712\n",
              "3   ACR_1  ACR_1_12           12          127              0.12029       742\n",
              "4   ACR_1  ACR_1_13           11          212              0.20081       761"
            ],
            "text/html": [
              "\n",
              "  <div id=\"df-cb5270f8-2dd8-43d3-9e6a-bda0132a8072\" class=\"colab-df-container\">\n",
              "    <div>\n",
              "<style scoped>\n",
              "    .dataframe tbody tr th:only-of-type {\n",
              "        vertical-align: middle;\n",
              "    }\n",
              "\n",
              "    .dataframe tbody tr th {\n",
              "        vertical-align: top;\n",
              "    }\n",
              "\n",
              "    .dataframe thead th {\n",
              "        text-align: right;\n",
              "    }\n",
              "</style>\n",
              "<table border=\"1\" class=\"dataframe\">\n",
              "  <thead>\n",
              "    <tr style=\"text-align: right;\">\n",
              "      <th></th>\n",
              "      <th>cons_id</th>\n",
              "      <th>mp_app_id</th>\n",
              "      <th>mp_app_rank</th>\n",
              "      <th>mp_app_vote</th>\n",
              "      <th>mp_app_vote_percent</th>\n",
              "      <th>party_id</th>\n",
              "    </tr>\n",
              "  </thead>\n",
              "  <tbody>\n",
              "    <tr>\n",
              "      <th>0</th>\n",
              "      <td>ACR_1</td>\n",
              "      <td>ACR_1_1</td>\n",
              "      <td>9</td>\n",
              "      <td>459</td>\n",
              "      <td>0.43477</td>\n",
              "      <td>706</td>\n",
              "    </tr>\n",
              "    <tr>\n",
              "      <th>1</th>\n",
              "      <td>ACR_1</td>\n",
              "      <td>ACR_1_10</td>\n",
              "      <td>1</td>\n",
              "      <td>38275</td>\n",
              "      <td>36.25419</td>\n",
              "      <td>709</td>\n",
              "    </tr>\n",
              "    <tr>\n",
              "      <th>2</th>\n",
              "      <td>ACR_1</td>\n",
              "      <td>ACR_1_11</td>\n",
              "      <td>13</td>\n",
              "      <td>126</td>\n",
              "      <td>0.11935</td>\n",
              "      <td>712</td>\n",
              "    </tr>\n",
              "    <tr>\n",
              "      <th>3</th>\n",
              "      <td>ACR_1</td>\n",
              "      <td>ACR_1_12</td>\n",
              "      <td>12</td>\n",
              "      <td>127</td>\n",
              "      <td>0.12029</td>\n",
              "      <td>742</td>\n",
              "    </tr>\n",
              "    <tr>\n",
              "      <th>4</th>\n",
              "      <td>ACR_1</td>\n",
              "      <td>ACR_1_13</td>\n",
              "      <td>11</td>\n",
              "      <td>212</td>\n",
              "      <td>0.20081</td>\n",
              "      <td>761</td>\n",
              "    </tr>\n",
              "  </tbody>\n",
              "</table>\n",
              "</div>\n",
              "    <div class=\"colab-df-buttons\">\n",
              "\n",
              "  <div class=\"colab-df-container\">\n",
              "    <button class=\"colab-df-convert\" onclick=\"convertToInteractive('df-cb5270f8-2dd8-43d3-9e6a-bda0132a8072')\"\n",
              "            title=\"Convert this dataframe to an interactive table.\"\n",
              "            style=\"display:none;\">\n",
              "\n",
              "  <svg xmlns=\"http://www.w3.org/2000/svg\" height=\"24px\" viewBox=\"0 -960 960 960\">\n",
              "    <path d=\"M120-120v-720h720v720H120Zm60-500h600v-160H180v160Zm220 220h160v-160H400v160Zm0 220h160v-160H400v160ZM180-400h160v-160H180v160Zm440 0h160v-160H620v160ZM180-180h160v-160H180v160Zm440 0h160v-160H620v160Z\"/>\n",
              "  </svg>\n",
              "    </button>\n",
              "\n",
              "  <style>\n",
              "    .colab-df-container {\n",
              "      display:flex;\n",
              "      gap: 12px;\n",
              "    }\n",
              "\n",
              "    .colab-df-convert {\n",
              "      background-color: #E8F0FE;\n",
              "      border: none;\n",
              "      border-radius: 50%;\n",
              "      cursor: pointer;\n",
              "      display: none;\n",
              "      fill: #1967D2;\n",
              "      height: 32px;\n",
              "      padding: 0 0 0 0;\n",
              "      width: 32px;\n",
              "    }\n",
              "\n",
              "    .colab-df-convert:hover {\n",
              "      background-color: #E2EBFA;\n",
              "      box-shadow: 0px 1px 2px rgba(60, 64, 67, 0.3), 0px 1px 3px 1px rgba(60, 64, 67, 0.15);\n",
              "      fill: #174EA6;\n",
              "    }\n",
              "\n",
              "    .colab-df-buttons div {\n",
              "      margin-bottom: 4px;\n",
              "    }\n",
              "\n",
              "    [theme=dark] .colab-df-convert {\n",
              "      background-color: #3B4455;\n",
              "      fill: #D2E3FC;\n",
              "    }\n",
              "\n",
              "    [theme=dark] .colab-df-convert:hover {\n",
              "      background-color: #434B5C;\n",
              "      box-shadow: 0px 1px 3px 1px rgba(0, 0, 0, 0.15);\n",
              "      filter: drop-shadow(0px 1px 2px rgba(0, 0, 0, 0.3));\n",
              "      fill: #FFFFFF;\n",
              "    }\n",
              "  </style>\n",
              "\n",
              "    <script>\n",
              "      const buttonEl =\n",
              "        document.querySelector('#df-cb5270f8-2dd8-43d3-9e6a-bda0132a8072 button.colab-df-convert');\n",
              "      buttonEl.style.display =\n",
              "        google.colab.kernel.accessAllowed ? 'block' : 'none';\n",
              "\n",
              "      async function convertToInteractive(key) {\n",
              "        const element = document.querySelector('#df-cb5270f8-2dd8-43d3-9e6a-bda0132a8072');\n",
              "        const dataTable =\n",
              "          await google.colab.kernel.invokeFunction('convertToInteractive',\n",
              "                                                    [key], {});\n",
              "        if (!dataTable) return;\n",
              "\n",
              "        const docLinkHtml = 'Like what you see? Visit the ' +\n",
              "          '<a target=\"_blank\" href=https://colab.research.google.com/notebooks/data_table.ipynb>data table notebook</a>'\n",
              "          + ' to learn more about interactive tables.';\n",
              "        element.innerHTML = '';\n",
              "        dataTable['output_type'] = 'display_data';\n",
              "        await google.colab.output.renderOutput(dataTable, element);\n",
              "        const docLink = document.createElement('div');\n",
              "        docLink.innerHTML = docLinkHtml;\n",
              "        element.appendChild(docLink);\n",
              "      }\n",
              "    </script>\n",
              "  </div>\n",
              "\n",
              "\n",
              "<div id=\"df-2e677ff9-2975-4c5d-9c35-f9f0a935ffb7\">\n",
              "  <button class=\"colab-df-quickchart\" onclick=\"quickchart('df-2e677ff9-2975-4c5d-9c35-f9f0a935ffb7')\"\n",
              "            title=\"Suggest charts.\"\n",
              "            style=\"display:none;\">\n",
              "\n",
              "<svg xmlns=\"http://www.w3.org/2000/svg\" height=\"24px\"viewBox=\"0 0 24 24\"\n",
              "     width=\"24px\">\n",
              "    <g>\n",
              "        <path d=\"M19 3H5c-1.1 0-2 .9-2 2v14c0 1.1.9 2 2 2h14c1.1 0 2-.9 2-2V5c0-1.1-.9-2-2-2zM9 17H7v-7h2v7zm4 0h-2V7h2v10zm4 0h-2v-4h2v4z\"/>\n",
              "    </g>\n",
              "</svg>\n",
              "  </button>\n",
              "\n",
              "<style>\n",
              "  .colab-df-quickchart {\n",
              "      --bg-color: #E8F0FE;\n",
              "      --fill-color: #1967D2;\n",
              "      --hover-bg-color: #E2EBFA;\n",
              "      --hover-fill-color: #174EA6;\n",
              "      --disabled-fill-color: #AAA;\n",
              "      --disabled-bg-color: #DDD;\n",
              "  }\n",
              "\n",
              "  [theme=dark] .colab-df-quickchart {\n",
              "      --bg-color: #3B4455;\n",
              "      --fill-color: #D2E3FC;\n",
              "      --hover-bg-color: #434B5C;\n",
              "      --hover-fill-color: #FFFFFF;\n",
              "      --disabled-bg-color: #3B4455;\n",
              "      --disabled-fill-color: #666;\n",
              "  }\n",
              "\n",
              "  .colab-df-quickchart {\n",
              "    background-color: var(--bg-color);\n",
              "    border: none;\n",
              "    border-radius: 50%;\n",
              "    cursor: pointer;\n",
              "    display: none;\n",
              "    fill: var(--fill-color);\n",
              "    height: 32px;\n",
              "    padding: 0;\n",
              "    width: 32px;\n",
              "  }\n",
              "\n",
              "  .colab-df-quickchart:hover {\n",
              "    background-color: var(--hover-bg-color);\n",
              "    box-shadow: 0 1px 2px rgba(60, 64, 67, 0.3), 0 1px 3px 1px rgba(60, 64, 67, 0.15);\n",
              "    fill: var(--button-hover-fill-color);\n",
              "  }\n",
              "\n",
              "  .colab-df-quickchart-complete:disabled,\n",
              "  .colab-df-quickchart-complete:disabled:hover {\n",
              "    background-color: var(--disabled-bg-color);\n",
              "    fill: var(--disabled-fill-color);\n",
              "    box-shadow: none;\n",
              "  }\n",
              "\n",
              "  .colab-df-spinner {\n",
              "    border: 2px solid var(--fill-color);\n",
              "    border-color: transparent;\n",
              "    border-bottom-color: var(--fill-color);\n",
              "    animation:\n",
              "      spin 1s steps(1) infinite;\n",
              "  }\n",
              "\n",
              "  @keyframes spin {\n",
              "    0% {\n",
              "      border-color: transparent;\n",
              "      border-bottom-color: var(--fill-color);\n",
              "      border-left-color: var(--fill-color);\n",
              "    }\n",
              "    20% {\n",
              "      border-color: transparent;\n",
              "      border-left-color: var(--fill-color);\n",
              "      border-top-color: var(--fill-color);\n",
              "    }\n",
              "    30% {\n",
              "      border-color: transparent;\n",
              "      border-left-color: var(--fill-color);\n",
              "      border-top-color: var(--fill-color);\n",
              "      border-right-color: var(--fill-color);\n",
              "    }\n",
              "    40% {\n",
              "      border-color: transparent;\n",
              "      border-right-color: var(--fill-color);\n",
              "      border-top-color: var(--fill-color);\n",
              "    }\n",
              "    60% {\n",
              "      border-color: transparent;\n",
              "      border-right-color: var(--fill-color);\n",
              "    }\n",
              "    80% {\n",
              "      border-color: transparent;\n",
              "      border-right-color: var(--fill-color);\n",
              "      border-bottom-color: var(--fill-color);\n",
              "    }\n",
              "    90% {\n",
              "      border-color: transparent;\n",
              "      border-bottom-color: var(--fill-color);\n",
              "    }\n",
              "  }\n",
              "</style>\n",
              "\n",
              "  <script>\n",
              "    async function quickchart(key) {\n",
              "      const quickchartButtonEl =\n",
              "        document.querySelector('#' + key + ' button');\n",
              "      quickchartButtonEl.disabled = true;  // To prevent multiple clicks.\n",
              "      quickchartButtonEl.classList.add('colab-df-spinner');\n",
              "      try {\n",
              "        const charts = await google.colab.kernel.invokeFunction(\n",
              "            'suggestCharts', [key], {});\n",
              "      } catch (error) {\n",
              "        console.error('Error during call to suggestCharts:', error);\n",
              "      }\n",
              "      quickchartButtonEl.classList.remove('colab-df-spinner');\n",
              "      quickchartButtonEl.classList.add('colab-df-quickchart-complete');\n",
              "    }\n",
              "    (() => {\n",
              "      let quickchartButtonEl =\n",
              "        document.querySelector('#df-2e677ff9-2975-4c5d-9c35-f9f0a935ffb7 button');\n",
              "      quickchartButtonEl.style.display =\n",
              "        google.colab.kernel.accessAllowed ? 'block' : 'none';\n",
              "    })();\n",
              "  </script>\n",
              "</div>\n",
              "    </div>\n",
              "  </div>\n"
            ]
          },
          "metadata": {},
          "execution_count": 4
        }
      ]
    },
    {
      "cell_type": "markdown",
      "source": [
        "- มีการ sort ข้อมูลโดยเริ่มจาก cons_id หรือรหัสเขตเลือกตั้ง, mp_app_rank หรืออันดับคะแนนเสียง ส.ส. เขตที่ได้\n",
        "- เนื่องจากมีบางพรรคที่มีจำนวนคะแนนเสียงที่ได้เกิน 100 คะแนน จึงทำการเลือกตัวอย่างที่มี mp_app_vote_percent ทีมีค่าตั้งแต่ 1-100 และทำการ sort โดยเรียงจากค่ามากที่สุดไปน้อยที่สุด\n",
        "- ทำการตัดข้อมูล cons_id, mp_app_rank, mp_app_id, party_id ในแกน x และทำการตัดข้อมูล mp_app_vote, mp_app_vote_percent เพื่อนำไปดูความสัมพันธ์ต่อไป\n",
        "- เมื่อพิจารณาข้อมูลแล้ว พบว่า cons_id, mp_app_rank, mp_app_id, party_id ที่ดูไม่เกี่ยวข้องกับข้อมูลอื่นๆ จึงทำการตัดออก และเลือก party_id เป็น target โดยการตัดข้อมูลอื่นออก"
      ],
      "metadata": {
        "id": "PDnlEhuQ9t4F"
      }
    },
    {
      "cell_type": "code",
      "source": [
        "#rey #procressing data\n",
        "sorted_df = df.sort_values(by=['cons_id','mp_app_rank']) #เรียงตาม cons_id(เขต) -> mp_app_rak(อันดับในเขต)\n",
        "df = sorted_df\n",
        "sorted_df = sorted_df[(sorted_df['mp_app_vote_percent'] >= 1) & (df['mp_app_vote_percent'] <= 100)]#แก้ไม่มีตัวที่เกิน 100 ใน dataset\n",
        "#test = sorted_df.sort_values(by='mp_app_vote_percent',ascending=False)#เทสว่าตัวมากที่สุดอยู่ใน 100 ascending=False -> 9 8 7 6\n",
        "\n",
        "x4plot =  sorted_df.drop(columns = ['cons_id','mp_app_rank','mp_app_id','party_id'])\n",
        "y4plot =  sorted_df.drop(columns = ['mp_app_vote','mp_app_vote_percent'])\n",
        "data_x = sorted_df.drop(columns = ['cons_id','mp_app_rank','mp_app_id','party_id'])\n",
        "data_y = sorted_df.drop(columns = ['cons_id','mp_app_rank','mp_app_vote','mp_app_id','mp_app_vote_percent'])\n",
        "\n",
        "print(data_x)\n",
        "print(y4plot)\n",
        "data_y.head()"
      ],
      "metadata": {
        "colab": {
          "base_uri": "https://localhost:8080/",
          "height": 723
        },
        "outputId": "f520b723-08bd-497f-f17a-1e8b2be8073a",
        "id": "PAjbE69z9t4F"
      },
      "execution_count": null,
      "outputs": [
        {
          "output_type": "stream",
          "name": "stdout",
          "text": [
            "      mp_app_vote  mp_app_vote_percent\n",
            "1           38275             36.25419\n",
            "11          21388             20.25878\n",
            "9           16724             15.84102\n",
            "8           15926             15.08515\n",
            "12           2825              2.67585\n",
            "...           ...                  ...\n",
            "4773        25205             24.11223\n",
            "4780        14502             13.87326\n",
            "4771        13483             12.89844\n",
            "4775         4957              4.74209\n",
            "4774         1498              1.43305\n",
            "\n",
            "[2177 rows x 2 columns]\n",
            "     cons_id mp_app_id  mp_app_rank  party_id\n",
            "1      ACR_1  ACR_1_10            1       709\n",
            "11     ACR_1   ACR_1_8            2       705\n",
            "9      ACR_1   ACR_1_6            3       726\n",
            "8      ACR_1   ACR_1_5            4       701\n",
            "12     ACR_1   ACR_1_9            5       743\n",
            "...      ...       ...          ...       ...\n",
            "4773   YST_3   YST_3_2            2       705\n",
            "4780   YST_3   YST_3_9            3       726\n",
            "4771   YST_3  YST_3_10            4       707\n",
            "4775   YST_3   YST_3_4            5       743\n",
            "4774   YST_3   YST_3_3            6       762\n",
            "\n",
            "[2177 rows x 4 columns]\n"
          ]
        },
        {
          "output_type": "execute_result",
          "data": {
            "text/plain": [
              "    party_id\n",
              "1        709\n",
              "11       705\n",
              "9        726\n",
              "8        701\n",
              "12       743"
            ],
            "text/html": [
              "\n",
              "  <div id=\"df-2acfa064-1f5b-4313-85e0-efa83d84ce76\" class=\"colab-df-container\">\n",
              "    <div>\n",
              "<style scoped>\n",
              "    .dataframe tbody tr th:only-of-type {\n",
              "        vertical-align: middle;\n",
              "    }\n",
              "\n",
              "    .dataframe tbody tr th {\n",
              "        vertical-align: top;\n",
              "    }\n",
              "\n",
              "    .dataframe thead th {\n",
              "        text-align: right;\n",
              "    }\n",
              "</style>\n",
              "<table border=\"1\" class=\"dataframe\">\n",
              "  <thead>\n",
              "    <tr style=\"text-align: right;\">\n",
              "      <th></th>\n",
              "      <th>party_id</th>\n",
              "    </tr>\n",
              "  </thead>\n",
              "  <tbody>\n",
              "    <tr>\n",
              "      <th>1</th>\n",
              "      <td>709</td>\n",
              "    </tr>\n",
              "    <tr>\n",
              "      <th>11</th>\n",
              "      <td>705</td>\n",
              "    </tr>\n",
              "    <tr>\n",
              "      <th>9</th>\n",
              "      <td>726</td>\n",
              "    </tr>\n",
              "    <tr>\n",
              "      <th>8</th>\n",
              "      <td>701</td>\n",
              "    </tr>\n",
              "    <tr>\n",
              "      <th>12</th>\n",
              "      <td>743</td>\n",
              "    </tr>\n",
              "  </tbody>\n",
              "</table>\n",
              "</div>\n",
              "    <div class=\"colab-df-buttons\">\n",
              "\n",
              "  <div class=\"colab-df-container\">\n",
              "    <button class=\"colab-df-convert\" onclick=\"convertToInteractive('df-2acfa064-1f5b-4313-85e0-efa83d84ce76')\"\n",
              "            title=\"Convert this dataframe to an interactive table.\"\n",
              "            style=\"display:none;\">\n",
              "\n",
              "  <svg xmlns=\"http://www.w3.org/2000/svg\" height=\"24px\" viewBox=\"0 -960 960 960\">\n",
              "    <path d=\"M120-120v-720h720v720H120Zm60-500h600v-160H180v160Zm220 220h160v-160H400v160Zm0 220h160v-160H400v160ZM180-400h160v-160H180v160Zm440 0h160v-160H620v160ZM180-180h160v-160H180v160Zm440 0h160v-160H620v160Z\"/>\n",
              "  </svg>\n",
              "    </button>\n",
              "\n",
              "  <style>\n",
              "    .colab-df-container {\n",
              "      display:flex;\n",
              "      gap: 12px;\n",
              "    }\n",
              "\n",
              "    .colab-df-convert {\n",
              "      background-color: #E8F0FE;\n",
              "      border: none;\n",
              "      border-radius: 50%;\n",
              "      cursor: pointer;\n",
              "      display: none;\n",
              "      fill: #1967D2;\n",
              "      height: 32px;\n",
              "      padding: 0 0 0 0;\n",
              "      width: 32px;\n",
              "    }\n",
              "\n",
              "    .colab-df-convert:hover {\n",
              "      background-color: #E2EBFA;\n",
              "      box-shadow: 0px 1px 2px rgba(60, 64, 67, 0.3), 0px 1px 3px 1px rgba(60, 64, 67, 0.15);\n",
              "      fill: #174EA6;\n",
              "    }\n",
              "\n",
              "    .colab-df-buttons div {\n",
              "      margin-bottom: 4px;\n",
              "    }\n",
              "\n",
              "    [theme=dark] .colab-df-convert {\n",
              "      background-color: #3B4455;\n",
              "      fill: #D2E3FC;\n",
              "    }\n",
              "\n",
              "    [theme=dark] .colab-df-convert:hover {\n",
              "      background-color: #434B5C;\n",
              "      box-shadow: 0px 1px 3px 1px rgba(0, 0, 0, 0.15);\n",
              "      filter: drop-shadow(0px 1px 2px rgba(0, 0, 0, 0.3));\n",
              "      fill: #FFFFFF;\n",
              "    }\n",
              "  </style>\n",
              "\n",
              "    <script>\n",
              "      const buttonEl =\n",
              "        document.querySelector('#df-2acfa064-1f5b-4313-85e0-efa83d84ce76 button.colab-df-convert');\n",
              "      buttonEl.style.display =\n",
              "        google.colab.kernel.accessAllowed ? 'block' : 'none';\n",
              "\n",
              "      async function convertToInteractive(key) {\n",
              "        const element = document.querySelector('#df-2acfa064-1f5b-4313-85e0-efa83d84ce76');\n",
              "        const dataTable =\n",
              "          await google.colab.kernel.invokeFunction('convertToInteractive',\n",
              "                                                    [key], {});\n",
              "        if (!dataTable) return;\n",
              "\n",
              "        const docLinkHtml = 'Like what you see? Visit the ' +\n",
              "          '<a target=\"_blank\" href=https://colab.research.google.com/notebooks/data_table.ipynb>data table notebook</a>'\n",
              "          + ' to learn more about interactive tables.';\n",
              "        element.innerHTML = '';\n",
              "        dataTable['output_type'] = 'display_data';\n",
              "        await google.colab.output.renderOutput(dataTable, element);\n",
              "        const docLink = document.createElement('div');\n",
              "        docLink.innerHTML = docLinkHtml;\n",
              "        element.appendChild(docLink);\n",
              "      }\n",
              "    </script>\n",
              "  </div>\n",
              "\n",
              "\n",
              "<div id=\"df-b3efd29e-4250-4b6e-bcdd-390e781c3403\">\n",
              "  <button class=\"colab-df-quickchart\" onclick=\"quickchart('df-b3efd29e-4250-4b6e-bcdd-390e781c3403')\"\n",
              "            title=\"Suggest charts.\"\n",
              "            style=\"display:none;\">\n",
              "\n",
              "<svg xmlns=\"http://www.w3.org/2000/svg\" height=\"24px\"viewBox=\"0 0 24 24\"\n",
              "     width=\"24px\">\n",
              "    <g>\n",
              "        <path d=\"M19 3H5c-1.1 0-2 .9-2 2v14c0 1.1.9 2 2 2h14c1.1 0 2-.9 2-2V5c0-1.1-.9-2-2-2zM9 17H7v-7h2v7zm4 0h-2V7h2v10zm4 0h-2v-4h2v4z\"/>\n",
              "    </g>\n",
              "</svg>\n",
              "  </button>\n",
              "\n",
              "<style>\n",
              "  .colab-df-quickchart {\n",
              "      --bg-color: #E8F0FE;\n",
              "      --fill-color: #1967D2;\n",
              "      --hover-bg-color: #E2EBFA;\n",
              "      --hover-fill-color: #174EA6;\n",
              "      --disabled-fill-color: #AAA;\n",
              "      --disabled-bg-color: #DDD;\n",
              "  }\n",
              "\n",
              "  [theme=dark] .colab-df-quickchart {\n",
              "      --bg-color: #3B4455;\n",
              "      --fill-color: #D2E3FC;\n",
              "      --hover-bg-color: #434B5C;\n",
              "      --hover-fill-color: #FFFFFF;\n",
              "      --disabled-bg-color: #3B4455;\n",
              "      --disabled-fill-color: #666;\n",
              "  }\n",
              "\n",
              "  .colab-df-quickchart {\n",
              "    background-color: var(--bg-color);\n",
              "    border: none;\n",
              "    border-radius: 50%;\n",
              "    cursor: pointer;\n",
              "    display: none;\n",
              "    fill: var(--fill-color);\n",
              "    height: 32px;\n",
              "    padding: 0;\n",
              "    width: 32px;\n",
              "  }\n",
              "\n",
              "  .colab-df-quickchart:hover {\n",
              "    background-color: var(--hover-bg-color);\n",
              "    box-shadow: 0 1px 2px rgba(60, 64, 67, 0.3), 0 1px 3px 1px rgba(60, 64, 67, 0.15);\n",
              "    fill: var(--button-hover-fill-color);\n",
              "  }\n",
              "\n",
              "  .colab-df-quickchart-complete:disabled,\n",
              "  .colab-df-quickchart-complete:disabled:hover {\n",
              "    background-color: var(--disabled-bg-color);\n",
              "    fill: var(--disabled-fill-color);\n",
              "    box-shadow: none;\n",
              "  }\n",
              "\n",
              "  .colab-df-spinner {\n",
              "    border: 2px solid var(--fill-color);\n",
              "    border-color: transparent;\n",
              "    border-bottom-color: var(--fill-color);\n",
              "    animation:\n",
              "      spin 1s steps(1) infinite;\n",
              "  }\n",
              "\n",
              "  @keyframes spin {\n",
              "    0% {\n",
              "      border-color: transparent;\n",
              "      border-bottom-color: var(--fill-color);\n",
              "      border-left-color: var(--fill-color);\n",
              "    }\n",
              "    20% {\n",
              "      border-color: transparent;\n",
              "      border-left-color: var(--fill-color);\n",
              "      border-top-color: var(--fill-color);\n",
              "    }\n",
              "    30% {\n",
              "      border-color: transparent;\n",
              "      border-left-color: var(--fill-color);\n",
              "      border-top-color: var(--fill-color);\n",
              "      border-right-color: var(--fill-color);\n",
              "    }\n",
              "    40% {\n",
              "      border-color: transparent;\n",
              "      border-right-color: var(--fill-color);\n",
              "      border-top-color: var(--fill-color);\n",
              "    }\n",
              "    60% {\n",
              "      border-color: transparent;\n",
              "      border-right-color: var(--fill-color);\n",
              "    }\n",
              "    80% {\n",
              "      border-color: transparent;\n",
              "      border-right-color: var(--fill-color);\n",
              "      border-bottom-color: var(--fill-color);\n",
              "    }\n",
              "    90% {\n",
              "      border-color: transparent;\n",
              "      border-bottom-color: var(--fill-color);\n",
              "    }\n",
              "  }\n",
              "</style>\n",
              "\n",
              "  <script>\n",
              "    async function quickchart(key) {\n",
              "      const quickchartButtonEl =\n",
              "        document.querySelector('#' + key + ' button');\n",
              "      quickchartButtonEl.disabled = true;  // To prevent multiple clicks.\n",
              "      quickchartButtonEl.classList.add('colab-df-spinner');\n",
              "      try {\n",
              "        const charts = await google.colab.kernel.invokeFunction(\n",
              "            'suggestCharts', [key], {});\n",
              "      } catch (error) {\n",
              "        console.error('Error during call to suggestCharts:', error);\n",
              "      }\n",
              "      quickchartButtonEl.classList.remove('colab-df-spinner');\n",
              "      quickchartButtonEl.classList.add('colab-df-quickchart-complete');\n",
              "    }\n",
              "    (() => {\n",
              "      let quickchartButtonEl =\n",
              "        document.querySelector('#df-b3efd29e-4250-4b6e-bcdd-390e781c3403 button');\n",
              "      quickchartButtonEl.style.display =\n",
              "        google.colab.kernel.accessAllowed ? 'block' : 'none';\n",
              "    })();\n",
              "  </script>\n",
              "</div>\n",
              "    </div>\n",
              "  </div>\n"
            ]
          },
          "metadata": {},
          "execution_count": 5
        }
      ]
    },
    {
      "cell_type": "code",
      "metadata": {
        "colab": {
          "base_uri": "https://localhost:8080/",
          "height": 448
        },
        "outputId": "75269a41-d2cd-4522-93ca-f95ca90d1e3d",
        "id": "qbMRoXa69t4F"
      },
      "source": [
        "#rey\n",
        "xx = x4plot.iloc[:, 1]\n",
        "yy = y4plot.iloc[:, 2]\n",
        "plt.scatter(yy,xx)\n",
        "#comparing each rank group"
      ],
      "execution_count": null,
      "outputs": [
        {
          "output_type": "execute_result",
          "data": {
            "text/plain": [
              "<matplotlib.collections.PathCollection at 0x7802119f6500>"
            ]
          },
          "metadata": {},
          "execution_count": 6
        },
        {
          "output_type": "display_data",
          "data": {
            "text/plain": [
              "<Figure size 640x480 with 1 Axes>"
            ],
            "image/png": "[encoded data removed]"
          },
          "metadata": {}
        }
      ]
    },
    {
      "cell_type": "markdown",
      "metadata": {
        "id": "QMriGRvV9t4F"
      },
      "source": [
        "- การพล็อตกราฟเพื่อดูว่าแต่ล่ะอันดับที่ชนะในเขตนั้นมีแนวโน้มอย่างไร โดยจะเห็นว่าแต่ละอันดับมีความเกะกลุ่มกันอย่างเห็นได้ชัด และหลังจากอันดับที่ 7 ข้อมูลมีความกระจัดกระจายซึ่งเกิดจากการที่บางเขตมีพรรคที่เข้ามาแย่งชิงคะแนนเสียงน้อยกว่า 7 พรรค"
      ]
    },
    {
      "cell_type": "code",
      "source": [
        "xx = x4plot.iloc[:, 1]\n",
        "yy = y4plot.iloc[:, 3]\n",
        "plt.scatter(yy,xx)\n",
        "#percent in each party"
      ],
      "metadata": {
        "colab": {
          "base_uri": "https://localhost:8080/",
          "height": 448
        },
        "outputId": "5ff35a86-4099-4bd2-9723-60fa0a320098",
        "id": "NdtRpOjl9t4F"
      },
      "execution_count": null,
      "outputs": [
        {
          "output_type": "execute_result",
          "data": {
            "text/plain": [
              "<matplotlib.collections.PathCollection at 0x7802114a11e0>"
            ]
          },
          "metadata": {},
          "execution_count": 7
        },
        {
          "output_type": "display_data",
          "data": {
            "text/plain": [
              "<Figure size 640x480 with 1 Axes>"
            ],
            "image/png": "[encoded data removed]"
          },
          "metadata": {}
        }
      ]
    },
    {
      "cell_type": "markdown",
      "source": [
        "- กราฟเพื่อดูว่าแต่ละพรรคมีคนโหวตมากแค่ในแต่ละเขตและดูปริมาณของ data ในแต่ละพรรค ซึ่งจะเห็นว่าพรรคที่มีจุดเยอะคือพรรคที่เป็นพรรคใหญ่และบางพรรคที่ไม่มีคนโหวตเลย เพราะน่าจะเป็นพรรคเล็กหรือข้อมูลผิดพลาด"
      ],
      "metadata": {
        "id": "C5Z6MpOU9t4F"
      }
    },
    {
      "cell_type": "markdown",
      "metadata": {
        "id": "eIj50B8b9t4G"
      },
      "source": [
        "###**2. Data Preprocessing**"
      ]
    },
    {
      "cell_type": "markdown",
      "metadata": {
        "id": "swlvJ5po9t4G"
      },
      "source": [
        "- ทำการแบ่งชุดข้อมูลสำหรับ Test เท่ากับ 25% และ Train เท่ากับ 75%"
      ]
    },
    {
      "cell_type": "code",
      "metadata": {
        "id": "hj-hikyE9t4G"
      },
      "source": [
        "#train and  test devide from data set\n",
        "trainX,testX,trainY,testY = train_test_split(data_x, data_y, test_size = 0.25 , random_state = 42)"
      ],
      "execution_count": null,
      "outputs": []
    },
    {
      "cell_type": "code",
      "source": [
        "print('Size of x training:',len(trainX))\n",
        "print('Size of y training:',len(trainY))\n",
        "print('Size of x testing:',len(testX))\n",
        "print('Size of y testing:',len(testY))"
      ],
      "metadata": {
        "colab": {
          "base_uri": "https://localhost:8080/"
        },
        "outputId": "30a64ef4-3f86-46ad-b800-b1341a6729af",
        "id": "7JkDqbaA9t4G"
      },
      "execution_count": null,
      "outputs": [
        {
          "output_type": "stream",
          "name": "stdout",
          "text": [
            "Size of x training: 1632\n",
            "Size of y training: 1632\n",
            "Size of x testing: 545\n",
            "Size of y testing: 545\n",
            "Size of x testing: 1086\n",
            "Size of y testing: 1091\n"
          ]
        }
      ]
    },
    {
      "cell_type": "markdown",
      "metadata": {
        "id": "3pqbzTLw9t4G"
      },
      "source": [
        "###**3. Model Construction and Analysis**\n",
        "\n",
        "###**Logistic regression Model:**\n",
        "สมมติฐาน : ทำนายว่าเป็นพรรคการเมืองไหน จากจำนวนคะแนนเสียง ส.ส. เขตที่ได้ และ จำนวนร้อยละคะแนนเสียง ส.ส. เขตของพรรคนั้นต่อจำนวนผู้ใช้สิทธิ์ทั้งหมด\n",
        "\n",
        "- ทำการเทรน Logistic linear regression โดยใช้ข้อมูล trainX และ trainY\n",
        "- ให้โมเดลทำนายออกมาในรูปแบบธรรมดาและในรูปแบบความน่าจะเป็นของแต่ละตัว\n",
        "- การที่โมเดลทำนายออกมาในรูปแบบ predict_proba นั้นจะแสดงให้เห็นถึงความน่าจะเป็นของแต่ละคำตอบจากมุมมองของโมเดล และแสดงถึงความมั่นใจในแต่ละคำตอบ"
      ]
    },
    {
      "cell_type": "code",
      "metadata": {
        "colab": {
          "base_uri": "https://localhost:8080/"
        },
        "outputId": "55fb9320-9672-409b-e42b-b5e89250537f",
        "id": "wTxAwQZO9t4H"
      },
      "source": [
        "#rey\n",
        "#Build linear regression model\n",
        "model_logistic = LogisticRegression(multi_class='multinomial', solver='lbfgs',C=1.0, max_iter=10000) #<------------logis\n",
        "model_logistic.fit(trainX,trainY)  #<------------logis\n",
        "y_pred_prob = model_logistic.predict_proba(testX) #<------------logis\n",
        "y_pred_prob = y_pred_prob[0]\n",
        "y_pred_norm = model_logistic.predict(testX)\n",
        "print(y_pred_prob) #<------------logis"
      ],
      "execution_count": null,
      "outputs": [
        {
          "output_type": "stream",
          "name": "stderr",
          "text": [
            "/usr/local/lib/python3.10/dist-packages/sklearn/utils/validation.py:1143: DataConversionWarning: A column-vector y was passed when a 1d array was expected. Please change the shape of y to (n_samples, ), for example using ravel().\n",
            "  y = column_or_1d(y, warn=True)\n"
          ]
        },
        {
          "output_type": "stream",
          "name": "stdout",
          "text": [
            "[3.94572185e-02 3.59877512e-01 6.40781957e-04 1.66492950e-03\n",
            " 1.72822648e-01 2.28394538e-26 4.55420035e-07 3.24167167e-11\n",
            " 2.82297968e-01 8.13166513e-66 5.27880104e-34 4.11652996e-29\n",
            " 1.44156748e-42 3.04248283e-46 4.56553383e-07 1.46862690e-03\n",
            " 3.16986953e-40 8.13630402e-02 6.31353871e-51 5.48130223e-85\n",
            " 8.69045453e-03 5.17062843e-02 1.16130828e-33 7.93379711e-40\n",
            " 1.36705304e-43 9.62364858e-06]\n"
          ]
        }
      ]
    },
    {
      "cell_type": "code",
      "source": [
        "print(y_pred_norm)\n"
      ],
      "metadata": {
        "colab": {
          "base_uri": "https://localhost:8080/"
        },
        "outputId": "7664785f-b70e-4028-eeea-162f723c8498",
        "id": "ZIQbNO259t4H"
      },
      "execution_count": null,
      "outputs": [
        {
          "output_type": "stream",
          "name": "stdout",
          "text": [
            "[705 705 705 763 726 763 763 763 763 705 705 705 705 763 726 705 763 705\n",
            " 763 726 763 726 705 726 763 763 705 726 705 705 726 763 763 763 763 763\n",
            " 705 763 705 705 763 705 705 705 705 705 705 705 726 763 705 763 705 763\n",
            " 705 763 763 726 705 763 763 705 726 705 726 705 763 705 763 705 705 726\n",
            " 705 705 726 763 763 763 763 705 705 705 763 705 763 705 763 705 763 726\n",
            " 763 705 763 705 763 705 705 726 763 705 763 726 705 763 726 705 705 705\n",
            " 705 705 763 705 763 763 705 763 763 705 726 763 726 763 763 705 705 726\n",
            " 763 763 705 705 763 705 705 763 705 763 763 705 705 763 763 726 740 705\n",
            " 763 705 705 726 705 763 726 705 763 763 705 726 726 705 763 705 763 705\n",
            " 726 763 705 763 763 705 705 763 763 726 705 763 705 705 763 705 705 705\n",
            " 705 705 705 705 705 705 726 726 763 763 705 726 705 705 705 763 726 705\n",
            " 763 705 763 705 763 705 705 763 705 763 705 763 705 705 763 705 763 763\n",
            " 726 705 763 726 705 705 705 726 763 763 726 726 726 705 763 705 705 763\n",
            " 705 763 763 763 705 705 763 763 763 705 705 763 705 705 705 763 763 705\n",
            " 705 726 705 726 726 705 705 705 763 705 705 763 763 705 726 726 763 705\n",
            " 726 763 705 726 763 740 763 763 705 705 763 705 763 705 705 763 705 763\n",
            " 726 705 763 726 705 705 763 726 726 705 726 705 705 726 705 726 705 705\n",
            " 705 705 763 726 726 763 726 763 763 705 705 705 705 705 705 705 726 763\n",
            " 726 705 705 705 705 763 705 763 763 763 763 726 726 705 705 763 705 705\n",
            " 705 763 705 705 763 705 705 763 763 705 726 726 763 705 763 705 726 705\n",
            " 705 705 763 726 763 763 763 705 705 763 705 726 763 705 726 705 763 705\n",
            " 763 763 726 705 705 705 705 726 763 726 705 726 763 726 763 705 705 726\n",
            " 705 705 705 763 705 726 726 705 705 763 705 705 726 705 705 705 763 763\n",
            " 726 726 763 726 705 726 705 705 705 705 705 705 705 705 705 705 763 763\n",
            " 705 726 726 726 705 705 763 705 763 763 763 705 763 705 726 763 705 763\n",
            " 705 763 763 705 763 763 763 763 763 726 763 763 726 763 763 763 705 705\n",
            " 726 763 705 763 763 763 705 705 726 763 705 726 705 726 705 763 705 705\n",
            " 763 726 726 726 705 705 726 726 726 763 705 726 705 726 763 726 763 763\n",
            " 763 763 726 705 705 705 763 763 763 705 705 705 705 726 763 763 705 726\n",
            " 763 705 705 726 763 763 705 763 705 763 705 763 705 763 763 726 705 763\n",
            " 763 705 726 763 763]\n"
          ]
        }
      ]
    },
    {
      "cell_type": "markdown",
      "source": [
        "โค้ดในส่วนนี้เป็นการแปลง dataframe เป็น numpy matrix เผื่อการนำไปคำนวณผลในอนาคต"
      ],
      "metadata": {
        "id": "BkZUb93e9t4H"
      }
    },
    {
      "cell_type": "code",
      "source": [
        "#rey\n",
        "## Convert the DataFrame to a NumPy matrix\n",
        "list1 = testY.values\n",
        "list1a = list1.ravel()\n",
        "list2b = y_pred_norm.tolist()\n",
        "##turn in to set\n",
        "set1 = set(list1a)\n",
        "set2 = set(list2b)"
      ],
      "metadata": {
        "id": "nqYWtPeF9t4H"
      },
      "execution_count": null,
      "outputs": []
    },
    {
      "cell_type": "markdown",
      "source": [
        "นำเสนอผลลัพธ์ของโมเดลในรูปแบบ classification report เพื่อแสดงให้เห็นความแม่นยำของแต่ lebel และปริมาณของแต่ละ lebel และปริมาณของข้อมูลทั้งหมดที่ใช้เทียบกับผลลัพธ์"
      ],
      "metadata": {
        "id": "WTiB5fuvmZDF"
      }
    },
    {
      "cell_type": "code",
      "source": [
        "from sklearn.metrics import classification_report\n",
        "y_true = testY  # Replace with your true labels\n",
        "y_pred = y_pred_norm  # Replace with your predicted labels\n",
        "# Assuming you have already trained your multiclass logistic regression model\n",
        "classification_rep = classification_report(y_true, y_pred)\n",
        "print(classification_rep)\n",
        "# Display the classification report as a heatmap\n",
        "report_data = classification_report(y_true, y_pred, output_dict=True)\n",
        "# Convert the dictionary to a DataFrame\n",
        "report_df = pd.DataFrame(report_data)\n",
        "# Transpose the DataFrame for better visualization\n",
        "report_df = report_df.transpose()\n",
        "# Display the classification report as a heatmap\n",
        "plt.figure(figsize=(8, 6))\n",
        "sns.heatmap(report_df, annot=True, cmap='YlGnBu', fmt='.2f')\n",
        "plt.title('Classification Report')\n",
        "plt.show()\n"
      ],
      "metadata": {
        "colab": {
          "base_uri": "https://localhost:8080/",
          "height": 1000
        },
        "outputId": "984424fe-2bc0-4b0d-d6fb-a3b6996ffbba",
        "id": "9LF_ILBU9t4I"
      },
      "execution_count": null,
      "outputs": [
        {
          "output_type": "stream",
          "name": "stderr",
          "text": [
            "/usr/local/lib/python3.10/dist-packages/sklearn/metrics/_classification.py:1344: UndefinedMetricWarning: Precision and F-score are ill-defined and being set to 0.0 in labels with no predicted samples. Use `zero_division` parameter to control this behavior.\n",
            "  _warn_prf(average, modifier, msg_start, len(result))\n",
            "/usr/local/lib/python3.10/dist-packages/sklearn/metrics/_classification.py:1344: UndefinedMetricWarning: Precision and F-score are ill-defined and being set to 0.0 in labels with no predicted samples. Use `zero_division` parameter to control this behavior.\n",
            "  _warn_prf(average, modifier, msg_start, len(result))\n",
            "/usr/local/lib/python3.10/dist-packages/sklearn/metrics/_classification.py:1344: UndefinedMetricWarning: Precision and F-score are ill-defined and being set to 0.0 in labels with no predicted samples. Use `zero_division` parameter to control this behavior.\n",
            "  _warn_prf(average, modifier, msg_start, len(result))\n",
            "/usr/local/lib/python3.10/dist-packages/sklearn/metrics/_classification.py:1344: UndefinedMetricWarning: Precision and F-score are ill-defined and being set to 0.0 in labels with no predicted samples. Use `zero_division` parameter to control this behavior.\n",
            "  _warn_prf(average, modifier, msg_start, len(result))\n",
            "/usr/local/lib/python3.10/dist-packages/sklearn/metrics/_classification.py:1344: UndefinedMetricWarning: Precision and F-score are ill-defined and being set to 0.0 in labels with no predicted samples. Use `zero_division` parameter to control this behavior.\n",
            "  _warn_prf(average, modifier, msg_start, len(result))\n",
            "/usr/local/lib/python3.10/dist-packages/sklearn/metrics/_classification.py:1344: UndefinedMetricWarning: Precision and F-score are ill-defined and being set to 0.0 in labels with no predicted samples. Use `zero_division` parameter to control this behavior.\n",
            "  _warn_prf(average, modifier, msg_start, len(result))\n"
          ]
        },
        {
          "output_type": "stream",
          "name": "stdout",
          "text": [
            "              precision    recall  f1-score   support\n",
            "\n",
            "         701       0.00      0.00      0.00        52\n",
            "         705       0.23      0.40      0.29       100\n",
            "         706       0.00      0.00      0.00        10\n",
            "         707       0.00      0.00      0.00         4\n",
            "         709       0.00      0.00      0.00        65\n",
            "         712       0.00      0.00      0.00         2\n",
            "         718       0.00      0.00      0.00         1\n",
            "         719       0.00      0.00      0.00        12\n",
            "         721       0.00      0.00      0.00         2\n",
            "         726       0.25      0.56      0.35        96\n",
            "         727       0.00      0.00      0.00         1\n",
            "         729       0.00      0.00      0.00         1\n",
            "         739       0.00      0.00      0.00         2\n",
            "         740       0.00      0.00      0.00         4\n",
            "         743       0.00      0.00      0.00        77\n",
            "         747       0.00      0.00      0.00         2\n",
            "         761       0.00      0.00      0.00         1\n",
            "         762       0.00      0.00      0.00        20\n",
            "         763       0.26      0.44      0.32        91\n",
            "         765       0.00      0.00      0.00         1\n",
            "         769       0.00      0.00      0.00         1\n",
            "\n",
            "    accuracy                           0.25       545\n",
            "   macro avg       0.04      0.07      0.05       545\n",
            "weighted avg       0.13      0.25      0.17       545\n",
            "\n"
          ]
        },
        {
          "output_type": "display_data",
          "data": {
            "text/plain": [
              "<Figure size 800x600 with 2 Axes>"
            ],
            "image/png": "[encoded data removed]"
          },
          "metadata": {}
        }
      ]
    },
    {
      "cell_type": "markdown",
      "source": [
        "สร้าง Confusion Matrix เพื่อนับความถูกต้องของแต่ละคลาส"
      ],
      "metadata": {
        "id": "LmXPB6QXm3Kk"
      }
    },
    {
      "cell_type": "code",
      "metadata": {
        "colab": {
          "base_uri": "https://localhost:8080/",
          "height": 564
        },
        "outputId": "495701a6-a976-4b44-80dd-332d5e33241b",
        "id": "zPleQM0y9t4I"
      },
      "source": [
        "from sklearn.metrics import confusion_matrix\n",
        "# Create a confusion matrix\n",
        "cm = confusion_matrix(y_true, y_pred)\n",
        "\n",
        "# Create a heatmap of the confusion matrix\n",
        "plt.figure(figsize=(8, 6))\n",
        "sns.heatmap(cm, annot=True, fmt=\"d\", cmap=\"Blues\")\n",
        "plt.xlabel('Predicted Labels')\n",
        "plt.ylabel('True Labels')\n",
        "plt.title('Confusion Matrix')\n",
        "plt.show()\n"
      ],
      "execution_count": null,
      "outputs": [
        {
          "output_type": "display_data",
          "data": {
            "text/plain": [
              "<Figure size 800x600 with 2 Axes>"
            ],
            "image/png": "[encoded data removed]"
          },
          "metadata": {}
        }
      ]
    },
    {
      "cell_type": "markdown",
      "metadata": {
        "id": "83j8ppOT9t4I"
      },
      "source": [
        "###**สรุปผลการทดลอง**"
      ]
    },
    {
      "cell_type": "markdown",
      "source": [
        "จากการทดลองพบว่า\n",
        "- พบว่ามีแค่ 3 พรรคจากทั้งหมดที่โมเดลสามารถทำนายได้และมีความถูกต้องอยู่ที่ประมาณ 25% สำหรับพรรคที่ทำนายได้ ส่วนความถูกต้องโดยรวมมีความแม่นยำอยู่ที่ 13%\n",
        "- ทั้งสามพรรคที่ทำนายได้คือ พรรคเพื่อไทย พรรคกล้าวไกล และพรรครวมไทยสร้างชาติ โดยที่สาเหตุที่สามารถทำนายทั้ง 3 พรรคนี้ได้ คือ จำนวนผู้ที่มาลงคะแนนเสียงให้กับพรรคนั้นๆมีมากพอที่โมเดลสามารถทำนายการตัดสินใจได้"
      ],
      "metadata": {
        "id": "ggW6oq99iH7m"
      }
    }
  ]
}